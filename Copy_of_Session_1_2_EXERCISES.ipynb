{
  "nbformat": 4,
  "nbformat_minor": 0,
  "metadata": {
    "colab": {
      "name": "Copy of Session_1_2_EXERCISES.ipynb",
      "provenance": [],
      "collapsed_sections": [],
      "include_colab_link": true
    },
    "kernelspec": {
      "name": "python3",
      "display_name": "Python 3"
    }
  },
  "cells": [
    {
      "cell_type": "markdown",
      "metadata": {
        "id": "view-in-github",
        "colab_type": "text"
      },
      "source": [
        "<a href=\"https://colab.research.google.com/github/KhaldounN/first-project-/blob/master/Copy_of_Session_1_2_EXERCISES.ipynb\" target=\"_parent\"><img src=\"https://colab.research.google.com/assets/colab-badge.svg\" alt=\"Open In Colab\"/></a>"
      ]
    },
    {
      "cell_type": "markdown",
      "metadata": {
        "id": "_a2hajcA99-K"
      },
      "source": [
        "![BTS](https://github.com/vfp1/bts-dsf-2020/blob/main/Logo-BTS.jpg?raw=1)\n",
        "\n",
        "# Session 1 and Session 2: Assignements\n",
        "\n",
        "### Victor F. Pajuelo Madrigal <victor.pajuelo@bts.tech> - Data Science Foundations (S1 - S2)\n",
        "\n",
        "Open this notebook in Google Colaboratory: [![Open in Colab](https://colab.research.google.com/assets/colab-badge.svg)](https://colab.research.google.com/github/vfp1/bts-dsf-2020/blob/main/exercises/Session_1_2_EXERCISES.ipynb)"
      ]
    },
    {
      "cell_type": "markdown",
      "metadata": {
        "id": "byRLEOBP1pet"
      },
      "source": [
        "## Exercise 1: CSV\n",
        "\n",
        "Analize the data of the JetBrains 2017 Python survey https://www.jetbrains.com/research/python-developers-survey-2017/\n",
        "\n",
        "1. Download raw data from http://jb.gg/pythondevsurvey2017raw\n",
        "2. Read it in pandas\n",
        "3. Reproduce \"What do you use Python for the most? (single answer)\" chart\n",
        "4. Reproduce \"What do you use Python for? (multiple answers)\" chart"
      ]
    },
    {
      "cell_type": "code",
      "metadata": {
        "id": "oBnQwY1c1peu",
        "outputId": "54ed2211-20f7-4d6a-ff45-5f5763c4264b",
        "colab": {
          "base_uri": "https://localhost:8080/",
          "height": 780
        }
      },
      "source": [
        "#Download raw data from http://jb.gg/pythondevsurvey2017raw\n",
        "#Read it in pandas\n",
        "import pandas as pd \n",
        "import matplotlib.pyplot as plt\n",
        "\n",
        "\n",
        "data = pd.read_csv('/content/pythondevsurvey2017_raw_data.csv')\n",
        "data.head()"
      ],
      "execution_count": null,
      "outputs": [
        {
          "output_type": "execute_result",
          "data": {
            "text/html": [
              "<div>\n",
              "<style scoped>\n",
              "    .dataframe tbody tr th:only-of-type {\n",
              "        vertical-align: middle;\n",
              "    }\n",
              "\n",
              "    .dataframe tbody tr th {\n",
              "        vertical-align: top;\n",
              "    }\n",
              "\n",
              "    .dataframe thead th {\n",
              "        text-align: right;\n",
              "    }\n",
              "</style>\n",
              "<table border=\"1\" class=\"dataframe\">\n",
              "  <thead>\n",
              "    <tr style=\"text-align: right;\">\n",
              "      <th></th>\n",
              "      <th>Is Python the main language you use for your current projects?</th>\n",
              "      <th>None:What other language(s) do you use?</th>\n",
              "      <th>Java:What other language(s) do you use?</th>\n",
              "      <th>JavaScript:What other language(s) do you use?</th>\n",
              "      <th>C/C++:What other language(s) do you use?</th>\n",
              "      <th>PHP:What other language(s) do you use?</th>\n",
              "      <th>C#:What other language(s) do you use?</th>\n",
              "      <th>Ruby:What other language(s) do you use?</th>\n",
              "      <th>Bash / Shell:What other language(s) do you use?</th>\n",
              "      <th>Objective-C:What other language(s) do you use?</th>\n",
              "      <th>Go:What other language(s) do you use?</th>\n",
              "      <th>Visual Basic:What other language(s) do you use?</th>\n",
              "      <th>Scala:What other language(s) do you use?</th>\n",
              "      <th>SQL:What other language(s) do you use?</th>\n",
              "      <th>Kotlin:What other language(s) do you use?</th>\n",
              "      <th>R:What other language(s) do you use?</th>\n",
              "      <th>Swift:What other language(s) do you use?</th>\n",
              "      <th>Clojure:What other language(s) do you use?</th>\n",
              "      <th>Perl:What other language(s) do you use?</th>\n",
              "      <th>Rust:What other language(s) do you use?</th>\n",
              "      <th>Groovy:What other language(s) do you use?</th>\n",
              "      <th>TypeScript:What other language(s) do you use?</th>\n",
              "      <th>CoffeeScript:What other language(s) do you use?</th>\n",
              "      <th>HTML/CSS:What other language(s) do you use?</th>\n",
              "      <th>Other - Write In::What other language(s) do you use?</th>\n",
              "      <th>Educational purposes: What do you use Python for?</th>\n",
              "      <th>Data analysis: What do you use Python for?</th>\n",
              "      <th>DevOps / System administration / Writing automation scripts: What do you use Python for?</th>\n",
              "      <th>Software testing / Writing automated tests: What do you use Python for?</th>\n",
              "      <th>Software prototyping: What do you use Python for?</th>\n",
              "      <th>Web development: What do you use Python for?</th>\n",
              "      <th>Machine learning: What do you use Python for?</th>\n",
              "      <th>Mobile development: What do you use Python for?</th>\n",
              "      <th>Desktop development: What do you use Python for?</th>\n",
              "      <th>Computer graphics: What do you use Python for?</th>\n",
              "      <th>Network programming: What do you use Python for?</th>\n",
              "      <th>Game development: What do you use Python for?</th>\n",
              "      <th>Multimedia applications development: What do you use Python for?</th>\n",
              "      <th>Embedded development: What do you use Python for?</th>\n",
              "      <th>Programming of web parsers / scrapers / crawlers: What do you use Python for?</th>\n",
              "      <th>...</th>\n",
              "      <th>refactor your code:When developing in Python, how often do you…?</th>\n",
              "      <th>use VCS:When developing in Python, how often do you…?</th>\n",
              "      <th>use code linting (programs that analyze code for potential errors):When developing in Python, how often do you…?</th>\n",
              "      <th>use Python virtual environments for your projects:When developing in Python, how often do you…?</th>\n",
              "      <th>use SQL databases :When developing in Python, how often do you…?</th>\n",
              "      <th>use NoSQL databases:When developing in Python, how often do you…?</th>\n",
              "      <th>run / debug or edit code on remote machines (remote hosts, VMs, etc.):When developing in Python, how often do you…?</th>\n",
              "      <th>use a Python profiler:When developing in Python, how often do you…?</th>\n",
              "      <th>write tests for your code:When developing in Python, how often do you…?</th>\n",
              "      <th>use code coverage:When developing in Python, how often do you…?</th>\n",
              "      <th>use optional type hinting:When developing in Python, how often do you…?</th>\n",
              "      <th>use Continuous Integration tools:When developing in Python, how often do you…?</th>\n",
              "      <th>use Issue Trackers:When developing in Python, how often do you…?</th>\n",
              "      <th>Do you regularly work on multiple projects at the same time?</th>\n",
              "      <th>How did you first learn about your main editor?</th>\n",
              "      <th>How often do you use your main editor?</th>\n",
              "      <th>Are you missing any features in your main editor?</th>\n",
              "      <th>How likely is it that you would recommend your main editor to a friend or colleague?</th>\n",
              "      <th>What do you think is the ratio of these two numbers?:Please think about the total number of Python Web Developers in the world and the total number of Data Scientists using Python.</th>\n",
              "      <th>What do you think would be the most popular opinion?:Please think about the total number of Python Web Developers in the world and the total number of Data Scientists using Python.</th>\n",
              "      <th>Most of the time, do you...?</th>\n",
              "      <th>How many people are in your project team?</th>\n",
              "      <th>What is your employment status?</th>\n",
              "      <th>Choose one from the list::Which of the following industries best describes your company's business?</th>\n",
              "      <th>Choose one from the list::Which of the following industries do you develop for?</th>\n",
              "      <th>How long have you been working in the IT industry?</th>\n",
              "      <th>DBA:Which of the following best describes your job role(s)?</th>\n",
              "      <th>Architect:Which of the following best describes your job role(s)?</th>\n",
              "      <th>QA engineer:Which of the following best describes your job role(s)?</th>\n",
              "      <th>Developer / Programmer:Which of the following best describes your job role(s)?</th>\n",
              "      <th>Technical support:Which of the following best describes your job role(s)?</th>\n",
              "      <th>Data analyst:Which of the following best describes your job role(s)?</th>\n",
              "      <th>Business analyst:Which of the following best describes your job role(s)?</th>\n",
              "      <th>Team lead:Which of the following best describes your job role(s)?</th>\n",
              "      <th>Product manager:Which of the following best describes your job role(s)?</th>\n",
              "      <th>CIO / CEO / CTO:Which of the following best describes your job role(s)?</th>\n",
              "      <th>Systems analyst:Which of the following best describes your job role(s)?</th>\n",
              "      <th>Other - Write In::Which of the following best describes your job role(s)?</th>\n",
              "      <th>Could you tell us your age range?</th>\n",
              "      <th>What country do you live in?</th>\n",
              "    </tr>\n",
              "  </thead>\n",
              "  <tbody>\n",
              "    <tr>\n",
              "      <th>0</th>\n",
              "      <td>Yes</td>\n",
              "      <td>NaN</td>\n",
              "      <td>NaN</td>\n",
              "      <td>JavaScript</td>\n",
              "      <td>NaN</td>\n",
              "      <td>PHP</td>\n",
              "      <td>NaN</td>\n",
              "      <td>NaN</td>\n",
              "      <td>Bash / Shell</td>\n",
              "      <td>NaN</td>\n",
              "      <td>NaN</td>\n",
              "      <td>NaN</td>\n",
              "      <td>NaN</td>\n",
              "      <td>NaN</td>\n",
              "      <td>NaN</td>\n",
              "      <td>NaN</td>\n",
              "      <td>NaN</td>\n",
              "      <td>NaN</td>\n",
              "      <td>NaN</td>\n",
              "      <td>NaN</td>\n",
              "      <td>NaN</td>\n",
              "      <td>NaN</td>\n",
              "      <td>NaN</td>\n",
              "      <td>HTML/CSS</td>\n",
              "      <td>NaN</td>\n",
              "      <td>Educational purposes</td>\n",
              "      <td>Data analysis</td>\n",
              "      <td>DevOps / System administration / Writing autom...</td>\n",
              "      <td>NaN</td>\n",
              "      <td>NaN</td>\n",
              "      <td>NaN</td>\n",
              "      <td>NaN</td>\n",
              "      <td>NaN</td>\n",
              "      <td>NaN</td>\n",
              "      <td>NaN</td>\n",
              "      <td>NaN</td>\n",
              "      <td>NaN</td>\n",
              "      <td>NaN</td>\n",
              "      <td>NaN</td>\n",
              "      <td>Programming of web parsers / scrapers / crawlers</td>\n",
              "      <td>...</td>\n",
              "      <td>Never or Almost never</td>\n",
              "      <td>Never or Almost never</td>\n",
              "      <td>Never or Almost never</td>\n",
              "      <td>From time to time</td>\n",
              "      <td>Never or Almost never</td>\n",
              "      <td>From time to time</td>\n",
              "      <td>Often</td>\n",
              "      <td>Never or Almost never</td>\n",
              "      <td>From time to time</td>\n",
              "      <td>Never or Almost never</td>\n",
              "      <td>Never or Almost never</td>\n",
              "      <td>Never or Almost never</td>\n",
              "      <td>Never or Almost never</td>\n",
              "      <td>Yes, I work on many different projects</td>\n",
              "      <td>Friend / Colleague</td>\n",
              "      <td>Daily</td>\n",
              "      <td>Yes</td>\n",
              "      <td>6.0</td>\n",
              "      <td>2:1</td>\n",
              "      <td>2:1</td>\n",
              "      <td>Work in a team</td>\n",
              "      <td>2-7 people</td>\n",
              "      <td>Fully employed by a company / organization</td>\n",
              "      <td>Education / Training</td>\n",
              "      <td>NaN</td>\n",
              "      <td>Less than 1 year</td>\n",
              "      <td>NaN</td>\n",
              "      <td>NaN</td>\n",
              "      <td>NaN</td>\n",
              "      <td>Developer / Programmer</td>\n",
              "      <td>NaN</td>\n",
              "      <td>NaN</td>\n",
              "      <td>NaN</td>\n",
              "      <td>NaN</td>\n",
              "      <td>NaN</td>\n",
              "      <td>NaN</td>\n",
              "      <td>NaN</td>\n",
              "      <td>NaN</td>\n",
              "      <td>60 or older</td>\n",
              "      <td>Italy</td>\n",
              "    </tr>\n",
              "    <tr>\n",
              "      <th>1</th>\n",
              "      <td>Yes</td>\n",
              "      <td>NaN</td>\n",
              "      <td>NaN</td>\n",
              "      <td>JavaScript</td>\n",
              "      <td>NaN</td>\n",
              "      <td>NaN</td>\n",
              "      <td>NaN</td>\n",
              "      <td>NaN</td>\n",
              "      <td>NaN</td>\n",
              "      <td>NaN</td>\n",
              "      <td>NaN</td>\n",
              "      <td>NaN</td>\n",
              "      <td>NaN</td>\n",
              "      <td>NaN</td>\n",
              "      <td>NaN</td>\n",
              "      <td>NaN</td>\n",
              "      <td>NaN</td>\n",
              "      <td>Clojure</td>\n",
              "      <td>NaN</td>\n",
              "      <td>Rust</td>\n",
              "      <td>NaN</td>\n",
              "      <td>NaN</td>\n",
              "      <td>NaN</td>\n",
              "      <td>HTML/CSS</td>\n",
              "      <td>Other - Write In:</td>\n",
              "      <td>NaN</td>\n",
              "      <td>Data analysis</td>\n",
              "      <td>DevOps / System administration / Writing autom...</td>\n",
              "      <td>NaN</td>\n",
              "      <td>NaN</td>\n",
              "      <td>Web development</td>\n",
              "      <td>NaN</td>\n",
              "      <td>NaN</td>\n",
              "      <td>NaN</td>\n",
              "      <td>NaN</td>\n",
              "      <td>Network programming</td>\n",
              "      <td>NaN</td>\n",
              "      <td>NaN</td>\n",
              "      <td>NaN</td>\n",
              "      <td>Programming of web parsers / scrapers / crawlers</td>\n",
              "      <td>...</td>\n",
              "      <td>Often</td>\n",
              "      <td>Often</td>\n",
              "      <td>Often</td>\n",
              "      <td>Often</td>\n",
              "      <td>Often</td>\n",
              "      <td>From time to time</td>\n",
              "      <td>From time to time</td>\n",
              "      <td>Never or Almost never</td>\n",
              "      <td>Often</td>\n",
              "      <td>Often</td>\n",
              "      <td>Never or Almost never</td>\n",
              "      <td>Often</td>\n",
              "      <td>Often</td>\n",
              "      <td>Yes, I work on many different projects</td>\n",
              "      <td>Friend / Colleague</td>\n",
              "      <td>Daily</td>\n",
              "      <td>No</td>\n",
              "      <td>7.0</td>\n",
              "      <td>10:1</td>\n",
              "      <td>5:1</td>\n",
              "      <td>Work in a team</td>\n",
              "      <td>2-7 people</td>\n",
              "      <td>Fully employed by a company / organization</td>\n",
              "      <td>Banking / Real Estate / Mortgage Financing</td>\n",
              "      <td>NaN</td>\n",
              "      <td>11+ years</td>\n",
              "      <td>NaN</td>\n",
              "      <td>Architect</td>\n",
              "      <td>NaN</td>\n",
              "      <td>Developer / Programmer</td>\n",
              "      <td>NaN</td>\n",
              "      <td>NaN</td>\n",
              "      <td>NaN</td>\n",
              "      <td>Team lead</td>\n",
              "      <td>NaN</td>\n",
              "      <td>NaN</td>\n",
              "      <td>NaN</td>\n",
              "      <td>NaN</td>\n",
              "      <td>40-49</td>\n",
              "      <td>United Kingdom</td>\n",
              "    </tr>\n",
              "    <tr>\n",
              "      <th>2</th>\n",
              "      <td>Yes</td>\n",
              "      <td>NaN</td>\n",
              "      <td>NaN</td>\n",
              "      <td>JavaScript</td>\n",
              "      <td>NaN</td>\n",
              "      <td>NaN</td>\n",
              "      <td>NaN</td>\n",
              "      <td>NaN</td>\n",
              "      <td>NaN</td>\n",
              "      <td>NaN</td>\n",
              "      <td>NaN</td>\n",
              "      <td>NaN</td>\n",
              "      <td>NaN</td>\n",
              "      <td>NaN</td>\n",
              "      <td>NaN</td>\n",
              "      <td>NaN</td>\n",
              "      <td>NaN</td>\n",
              "      <td>NaN</td>\n",
              "      <td>NaN</td>\n",
              "      <td>NaN</td>\n",
              "      <td>NaN</td>\n",
              "      <td>NaN</td>\n",
              "      <td>NaN</td>\n",
              "      <td>HTML/CSS</td>\n",
              "      <td>NaN</td>\n",
              "      <td>NaN</td>\n",
              "      <td>NaN</td>\n",
              "      <td>DevOps / System administration / Writing autom...</td>\n",
              "      <td>NaN</td>\n",
              "      <td>NaN</td>\n",
              "      <td>Web development</td>\n",
              "      <td>NaN</td>\n",
              "      <td>NaN</td>\n",
              "      <td>NaN</td>\n",
              "      <td>NaN</td>\n",
              "      <td>NaN</td>\n",
              "      <td>NaN</td>\n",
              "      <td>NaN</td>\n",
              "      <td>NaN</td>\n",
              "      <td>NaN</td>\n",
              "      <td>...</td>\n",
              "      <td>Often</td>\n",
              "      <td>Often</td>\n",
              "      <td>Often</td>\n",
              "      <td>Often</td>\n",
              "      <td>From time to time</td>\n",
              "      <td>Never or Almost never</td>\n",
              "      <td>Never or Almost never</td>\n",
              "      <td>Never or Almost never</td>\n",
              "      <td>From time to time</td>\n",
              "      <td>Often</td>\n",
              "      <td>Never or Almost never</td>\n",
              "      <td>Often</td>\n",
              "      <td>Often</td>\n",
              "      <td>Yes, I work on many different projects</td>\n",
              "      <td>Social network</td>\n",
              "      <td>Daily</td>\n",
              "      <td>No</td>\n",
              "      <td>9.0</td>\n",
              "      <td>1:2</td>\n",
              "      <td>2:1</td>\n",
              "      <td>Work as an external consultant or trainer</td>\n",
              "      <td>NaN</td>\n",
              "      <td>Freelancer</td>\n",
              "      <td>NaN</td>\n",
              "      <td>NaN</td>\n",
              "      <td>11+ years</td>\n",
              "      <td>NaN</td>\n",
              "      <td>NaN</td>\n",
              "      <td>NaN</td>\n",
              "      <td>Developer / Programmer</td>\n",
              "      <td>NaN</td>\n",
              "      <td>NaN</td>\n",
              "      <td>NaN</td>\n",
              "      <td>NaN</td>\n",
              "      <td>NaN</td>\n",
              "      <td>NaN</td>\n",
              "      <td>NaN</td>\n",
              "      <td>NaN</td>\n",
              "      <td>40-49</td>\n",
              "      <td>France</td>\n",
              "    </tr>\n",
              "    <tr>\n",
              "      <th>3</th>\n",
              "      <td>No, I don’t use Python for my current projects</td>\n",
              "      <td>NaN</td>\n",
              "      <td>NaN</td>\n",
              "      <td>NaN</td>\n",
              "      <td>NaN</td>\n",
              "      <td>NaN</td>\n",
              "      <td>C#</td>\n",
              "      <td>NaN</td>\n",
              "      <td>NaN</td>\n",
              "      <td>NaN</td>\n",
              "      <td>NaN</td>\n",
              "      <td>NaN</td>\n",
              "      <td>NaN</td>\n",
              "      <td>NaN</td>\n",
              "      <td>NaN</td>\n",
              "      <td>NaN</td>\n",
              "      <td>NaN</td>\n",
              "      <td>NaN</td>\n",
              "      <td>NaN</td>\n",
              "      <td>NaN</td>\n",
              "      <td>NaN</td>\n",
              "      <td>NaN</td>\n",
              "      <td>NaN</td>\n",
              "      <td>NaN</td>\n",
              "      <td>NaN</td>\n",
              "      <td>NaN</td>\n",
              "      <td>NaN</td>\n",
              "      <td>NaN</td>\n",
              "      <td>NaN</td>\n",
              "      <td>NaN</td>\n",
              "      <td>NaN</td>\n",
              "      <td>NaN</td>\n",
              "      <td>NaN</td>\n",
              "      <td>NaN</td>\n",
              "      <td>NaN</td>\n",
              "      <td>NaN</td>\n",
              "      <td>NaN</td>\n",
              "      <td>NaN</td>\n",
              "      <td>NaN</td>\n",
              "      <td>NaN</td>\n",
              "      <td>...</td>\n",
              "      <td>NaN</td>\n",
              "      <td>NaN</td>\n",
              "      <td>NaN</td>\n",
              "      <td>NaN</td>\n",
              "      <td>NaN</td>\n",
              "      <td>NaN</td>\n",
              "      <td>NaN</td>\n",
              "      <td>NaN</td>\n",
              "      <td>NaN</td>\n",
              "      <td>NaN</td>\n",
              "      <td>NaN</td>\n",
              "      <td>NaN</td>\n",
              "      <td>NaN</td>\n",
              "      <td>NaN</td>\n",
              "      <td>NaN</td>\n",
              "      <td>NaN</td>\n",
              "      <td>NaN</td>\n",
              "      <td>NaN</td>\n",
              "      <td>NaN</td>\n",
              "      <td>NaN</td>\n",
              "      <td>Work on your own project(s) independently</td>\n",
              "      <td>NaN</td>\n",
              "      <td>Student</td>\n",
              "      <td>NaN</td>\n",
              "      <td>NaN</td>\n",
              "      <td>Less than 1 year</td>\n",
              "      <td>NaN</td>\n",
              "      <td>NaN</td>\n",
              "      <td>NaN</td>\n",
              "      <td>Developer / Programmer</td>\n",
              "      <td>NaN</td>\n",
              "      <td>NaN</td>\n",
              "      <td>NaN</td>\n",
              "      <td>NaN</td>\n",
              "      <td>NaN</td>\n",
              "      <td>NaN</td>\n",
              "      <td>NaN</td>\n",
              "      <td>NaN</td>\n",
              "      <td>17 or younger</td>\n",
              "      <td>Spain</td>\n",
              "    </tr>\n",
              "    <tr>\n",
              "      <th>4</th>\n",
              "      <td>Yes</td>\n",
              "      <td>NaN</td>\n",
              "      <td>Java</td>\n",
              "      <td>NaN</td>\n",
              "      <td>NaN</td>\n",
              "      <td>NaN</td>\n",
              "      <td>NaN</td>\n",
              "      <td>NaN</td>\n",
              "      <td>NaN</td>\n",
              "      <td>NaN</td>\n",
              "      <td>NaN</td>\n",
              "      <td>NaN</td>\n",
              "      <td>NaN</td>\n",
              "      <td>SQL</td>\n",
              "      <td>Kotlin</td>\n",
              "      <td>NaN</td>\n",
              "      <td>Swift</td>\n",
              "      <td>NaN</td>\n",
              "      <td>NaN</td>\n",
              "      <td>NaN</td>\n",
              "      <td>NaN</td>\n",
              "      <td>NaN</td>\n",
              "      <td>NaN</td>\n",
              "      <td>NaN</td>\n",
              "      <td>NaN</td>\n",
              "      <td>NaN</td>\n",
              "      <td>Data analysis</td>\n",
              "      <td>NaN</td>\n",
              "      <td>NaN</td>\n",
              "      <td>Software prototyping</td>\n",
              "      <td>NaN</td>\n",
              "      <td>Machine learning</td>\n",
              "      <td>NaN</td>\n",
              "      <td>Desktop development</td>\n",
              "      <td>NaN</td>\n",
              "      <td>NaN</td>\n",
              "      <td>NaN</td>\n",
              "      <td>NaN</td>\n",
              "      <td>NaN</td>\n",
              "      <td>NaN</td>\n",
              "      <td>...</td>\n",
              "      <td>From time to time</td>\n",
              "      <td>Often</td>\n",
              "      <td>Never or Almost never</td>\n",
              "      <td>From time to time</td>\n",
              "      <td>From time to time</td>\n",
              "      <td>Never or Almost never</td>\n",
              "      <td>Never or Almost never</td>\n",
              "      <td>Often</td>\n",
              "      <td>Never or Almost never</td>\n",
              "      <td>Never or Almost never</td>\n",
              "      <td>From time to time</td>\n",
              "      <td>Never or Almost never</td>\n",
              "      <td>Often</td>\n",
              "      <td>Yes, I work on one main and several side projects</td>\n",
              "      <td>Search engines</td>\n",
              "      <td>Daily</td>\n",
              "      <td>No</td>\n",
              "      <td>10.0</td>\n",
              "      <td>1:5</td>\n",
              "      <td>1:2</td>\n",
              "      <td>Work in a team</td>\n",
              "      <td>2-7 people</td>\n",
              "      <td>Student</td>\n",
              "      <td>NaN</td>\n",
              "      <td>NaN</td>\n",
              "      <td>3 - 5 years</td>\n",
              "      <td>NaN</td>\n",
              "      <td>NaN</td>\n",
              "      <td>NaN</td>\n",
              "      <td>Developer / Programmer</td>\n",
              "      <td>NaN</td>\n",
              "      <td>NaN</td>\n",
              "      <td>NaN</td>\n",
              "      <td>NaN</td>\n",
              "      <td>NaN</td>\n",
              "      <td>NaN</td>\n",
              "      <td>NaN</td>\n",
              "      <td>NaN</td>\n",
              "      <td>18-20</td>\n",
              "      <td>Israel</td>\n",
              "    </tr>\n",
              "  </tbody>\n",
              "</table>\n",
              "<p>5 rows × 162 columns</p>\n",
              "</div>"
            ],
            "text/plain": [
              "  Is Python the main language you use for your current projects?  ... What country do you live in?\n",
              "0                                                Yes              ...                        Italy\n",
              "1                                                Yes              ...               United Kingdom\n",
              "2                                                Yes              ...                       France\n",
              "3     No, I don’t use Python for my current projects              ...                        Spain\n",
              "4                                                Yes              ...                       Israel\n",
              "\n",
              "[5 rows x 162 columns]"
            ]
          },
          "metadata": {
            "tags": []
          },
          "execution_count": 36
        }
      ]
    },
    {
      "cell_type": "code",
      "metadata": {
        "id": "UZ2OW4pch1EN",
        "outputId": "5f713dac-b425-4cc2-b76d-2c50f6da53c8",
        "colab": {
          "base_uri": "https://localhost:8080/",
          "height": 609
        }
      },
      "source": [
        "#Reproduce \"What do you use Python for the most? (single answer)\" chart\n",
        "\n",
        "# First : use boolean logic to create a column containing False for single answer and True for mutiple answers\n",
        "\n",
        "df = data.loc[:,\"What do you use Python for the most?\"].str.contains('/').fillna(False).to_frame()\n",
        "df.columns = ['Multi_answer']\n",
        "\n",
        "#add the created column back to the full data frame \n",
        "\n",
        "df_main = pd.concat( [df,data], axis=1)\n",
        "\n",
        "# create DF for single answer and plot \n",
        "\n",
        "df_main_single = df_main[df_main['Multi_answer'] == False]\n",
        "\n",
        "\n",
        "plt.figure(figsize=(20,10))\n",
        "df_main_single['What do you use Python for the most?'].value_counts().plot()"
      ],
      "execution_count": null,
      "outputs": [
        {
          "output_type": "execute_result",
          "data": {
            "text/plain": [
              "<matplotlib.axes._subplots.AxesSubplot at 0x7f28277a9470>"
            ]
          },
          "metadata": {
            "tags": []
          },
          "execution_count": 37
        },
        {
          "output_type": "display_data",
          "data": {
            "image/png": "[encoded data removed]",
            "text/plain": [
              "<Figure size 1440x720 with 1 Axes>"
            ]
          },
          "metadata": {
            "tags": [],
            "needs_background": "light"
          }
        }
      ]
    },
    {
      "cell_type": "code",
      "metadata": {
        "id": "3_Hava4gh1UI",
        "outputId": "81b10b89-783b-45e3-ac29-f4e3b60f4aa8",
        "colab": {
          "base_uri": "https://localhost:8080/",
          "height": 609
        }
      },
      "source": [
        "#Reproduce \"What do you use Python for? (multiple answers)\" chart\n",
        "\n",
        "df_main_multi = df_main[df_main['Multi_answer'] == True]\n",
        "\n",
        "\n",
        "plt.figure(figsize=(20,10))\n",
        "df_main_multi['What do you use Python for the most?'].value_counts().plot()"
      ],
      "execution_count": null,
      "outputs": [
        {
          "output_type": "execute_result",
          "data": {
            "text/plain": [
              "<matplotlib.axes._subplots.AxesSubplot at 0x7f28277a9358>"
            ]
          },
          "metadata": {
            "tags": []
          },
          "execution_count": 38
        },
        {
          "output_type": "display_data",
          "data": {
            "image/png": "[encoded data removed]",
            "text/plain": [
              "<Figure size 1440x720 with 1 Axes>"
            ]
          },
          "metadata": {
            "tags": [],
            "needs_background": "light"
          }
        }
      ]
    },
    {
      "cell_type": "markdown",
      "metadata": {
        "id": "HCvH2cLM_1Cq"
      },
      "source": [
        "# Exercise 2: slicing arrays\n",
        "\n",
        "Given the array provided in the next cell. Do the following with slicing (check the other notebooks for examples)\n",
        "\n",
        "\n",
        "\n",
        "*   Print the whole array using slice\n",
        "*   Print number 12\n",
        "*   Reverse the array\n",
        "*   Reverse only one row in the array\n",
        "*   Slice the first three columns in the array\n",
        "*   Slice the last three columns and reverse them\n",
        "*   Slice the last two rows and print them\n",
        "*   Slice the last integers in a row\n",
        "*   Slice rows and columns\n",
        "\n",
        "\n",
        "[Here](https://machinelearningmastery.com/index-slice-reshape-numpy-arrays-machine-learning-python/) some good examples ;-)\n",
        "\n",
        "\n",
        "\n"
      ]
    },
    {
      "cell_type": "code",
      "metadata": {
        "id": "ksQUFmu3-HKl",
        "outputId": "55e21ee3-33fa-4c83-e4ae-8d31336abbd8",
        "colab": {
          "base_uri": "https://localhost:8080/"
        }
      },
      "source": [
        "import numpy as np\n",
        "\n",
        "a = [[1, 2, 3, 4, 5], [6, 7, 8, 9, 10], [11, 12, 13, 14, 15], [16, 17, 18, 19, 20]]\n",
        "nd_a = np.array(a)\n",
        "nd_a"
      ],
      "execution_count": null,
      "outputs": [
        {
          "output_type": "execute_result",
          "data": {
            "text/plain": [
              "array([[ 1,  2,  3,  4,  5],\n",
              "       [ 6,  7,  8,  9, 10],\n",
              "       [11, 12, 13, 14, 15],\n",
              "       [16, 17, 18, 19, 20]])"
            ]
          },
          "metadata": {
            "tags": []
          },
          "execution_count": 39
        }
      ]
    },
    {
      "cell_type": "code",
      "metadata": {
        "id": "GDMyk3aOwotZ",
        "outputId": "31811547-0b2b-4fef-8593-5c2fee4f4b9c",
        "colab": {
          "base_uri": "https://localhost:8080/"
        }
      },
      "source": [
        "#Print the whole array using slice\n",
        "print(nd_a[:])"
      ],
      "execution_count": null,
      "outputs": [
        {
          "output_type": "stream",
          "text": [
            "[[ 1  2  3  4  5]\n",
            " [ 6  7  8  9 10]\n",
            " [11 12 13 14 15]\n",
            " [16 17 18 19 20]]\n"
          ],
          "name": "stdout"
        }
      ]
    },
    {
      "cell_type": "code",
      "metadata": {
        "id": "Sa5lS9s9mg7i",
        "outputId": "1df703fe-67fd-43ed-bca1-b5c0daed0938",
        "colab": {
          "base_uri": "https://localhost:8080/"
        }
      },
      "source": [
        "#Print number 12\n",
        "nd_a[2,1]"
      ],
      "execution_count": null,
      "outputs": [
        {
          "output_type": "execute_result",
          "data": {
            "text/plain": [
              "12"
            ]
          },
          "metadata": {
            "tags": []
          },
          "execution_count": 17
        }
      ]
    },
    {
      "cell_type": "code",
      "metadata": {
        "id": "IWb1HX2VmjQo",
        "outputId": "abb4ee16-1923-4ca0-e0a0-ffba37caca89",
        "colab": {
          "base_uri": "https://localhost:8080/"
        }
      },
      "source": [
        "#Reverse the array\n",
        "nd_a[::-1]"
      ],
      "execution_count": null,
      "outputs": [
        {
          "output_type": "execute_result",
          "data": {
            "text/plain": [
              "array([[16, 17, 18, 19, 20],\n",
              "       [11, 12, 13, 14, 15],\n",
              "       [ 6,  7,  8,  9, 10],\n",
              "       [ 1,  2,  3,  4,  5]])"
            ]
          },
          "metadata": {
            "tags": []
          },
          "execution_count": 18
        }
      ]
    },
    {
      "cell_type": "code",
      "metadata": {
        "id": "mCS2DFIsmk_B",
        "outputId": "a8116704-5ca8-4c85-9fb9-f0a57bb46128",
        "colab": {
          "base_uri": "https://localhost:8080/"
        }
      },
      "source": [
        "#Reverse only one row in the array\n",
        "np.flip( nd_a[0:1:])"
      ],
      "execution_count": null,
      "outputs": [
        {
          "output_type": "execute_result",
          "data": {
            "text/plain": [
              "array([[5, 4, 3, 2, 1]])"
            ]
          },
          "metadata": {
            "tags": []
          },
          "execution_count": 19
        }
      ]
    },
    {
      "cell_type": "code",
      "metadata": {
        "id": "ugKsT29FmtnF",
        "outputId": "fb70b5dd-746b-4017-e489-17fe51955054",
        "colab": {
          "base_uri": "https://localhost:8080/"
        }
      },
      "source": [
        "#Slice the first three columns in the array\n",
        "nd_a[:,0:3]"
      ],
      "execution_count": null,
      "outputs": [
        {
          "output_type": "execute_result",
          "data": {
            "text/plain": [
              "array([[ 1,  2,  3],\n",
              "       [ 6,  7,  8],\n",
              "       [11, 12, 13],\n",
              "       [16, 17, 18]])"
            ]
          },
          "metadata": {
            "tags": []
          },
          "execution_count": 20
        }
      ]
    },
    {
      "cell_type": "code",
      "metadata": {
        "id": "-gZh1X-qmupQ",
        "outputId": "f60f789e-0942-477a-f3b0-00e44d8c61e7",
        "colab": {
          "base_uri": "https://localhost:8080/"
        }
      },
      "source": [
        "#Slice the last three columns and reverse them\n",
        "x = nd_a[::,2:]\n",
        "x[::,::-1]"
      ],
      "execution_count": null,
      "outputs": [
        {
          "output_type": "execute_result",
          "data": {
            "text/plain": [
              "array([[ 5,  4,  3],\n",
              "       [10,  9,  8],\n",
              "       [15, 14, 13],\n",
              "       [20, 19, 18]])"
            ]
          },
          "metadata": {
            "tags": []
          },
          "execution_count": 21
        }
      ]
    },
    {
      "cell_type": "code",
      "metadata": {
        "id": "GBargi1unS5W",
        "outputId": "3d68f251-8dfd-414d-e768-e4075ee8df40",
        "colab": {
          "base_uri": "https://localhost:8080/"
        }
      },
      "source": [
        "#Slice the last two rows and print them\n",
        "\n",
        "print(nd_a[-2::,:])"
      ],
      "execution_count": null,
      "outputs": [
        {
          "output_type": "stream",
          "text": [
            "[[11 12 13 14 15]\n",
            " [16 17 18 19 20]]\n"
          ],
          "name": "stdout"
        }
      ]
    },
    {
      "cell_type": "code",
      "metadata": {
        "id": "cpbDMaPXnV3F",
        "outputId": "786b2af4-d307-494c-bfb9-b568caf2b4f7",
        "colab": {
          "base_uri": "https://localhost:8080/"
        }
      },
      "source": [
        "#Slice the last integers in a row\n",
        "nd_a[-1::,-3:]"
      ],
      "execution_count": null,
      "outputs": [
        {
          "output_type": "execute_result",
          "data": {
            "text/plain": [
              "array([[18, 19, 20]])"
            ]
          },
          "metadata": {
            "tags": []
          },
          "execution_count": 23
        }
      ]
    },
    {
      "cell_type": "code",
      "metadata": {
        "id": "WbJQaf8nn55E",
        "outputId": "e4949eaf-dbbc-4604-d8ee-b99137e6e1db",
        "colab": {
          "base_uri": "https://localhost:8080/"
        }
      },
      "source": [
        "#Slice rows and columns. \n",
        "\n",
        "data = nd_a.reshape(1,20)\n",
        "data\n",
        "# Hi Victor, I am not sure what do you mean by Slic rows and columns "
      ],
      "execution_count": null,
      "outputs": [
        {
          "output_type": "execute_result",
          "data": {
            "text/plain": [
              "array([[ 1,  2,  3,  4,  5,  6,  7,  8,  9, 10, 11, 12, 13, 14, 15, 16,\n",
              "        17, 18, 19, 20]])"
            ]
          },
          "metadata": {
            "tags": []
          },
          "execution_count": 24
        }
      ]
    },
    {
      "cell_type": "markdown",
      "metadata": {
        "id": "XrA3YsGkQVY4"
      },
      "source": [
        "# Exercise 3: when is best to bike alone?\n",
        "\n",
        "Given the bike dataset:\n",
        "\n",
        "* Download the Dataset using curl\n",
        "* Open the dataset using Pandas\n",
        "* Display the DataFrame\n",
        "* Reply to the following questions (either by plotting the graph and summarizing the values):\n",
        "\n",
        "    * When are the busiest hours per week in Total?\n",
        "    * Where will you be more comfortable (alone) riding during the week in West or East?\n",
        "    * What about riding during the business days? When and where are the best hours to ride alone between 06:00 and 10:00? And between 15:00 and 20:00?\n",
        "    * What happened during the coronavirus pandemic? Did the daily riding hours change? How many riders are passing through the bridge comparing 2018 and 2020?"
      ]
    },
    {
      "cell_type": "code",
      "metadata": {
        "id": "007TRg0V4EUn",
        "outputId": "1266c0ac-bf0f-4468-8a06-39b621ce6d58",
        "colab": {
          "base_uri": "https://localhost:8080/"
        }
      },
      "source": [
        "!curl -o FremontBridge.csv https://data.seattle.gov/api/views/65db-xm6k/rows.csv?accessType=DOWNLOAD"
      ],
      "execution_count": null,
      "outputs": [
        {
          "output_type": "stream",
          "text": [
            "  % Total    % Received % Xferd  Average Speed   Time    Time     Time  Current\n",
            "                                 Dload  Upload   Total   Spent    Left  Speed\n",
            "100 4248k    0 4248k    0     0   671k      0 --:--:--  0:00:06 --:--:-- 1112k\n"
          ],
          "name": "stdout"
        }
      ]
    },
    {
      "cell_type": "code",
      "metadata": {
        "id": "gJ9UDTf4oHjh",
        "outputId": "5d9287a8-efed-42e3-bf49-55f0d7cb4ca3",
        "colab": {
          "base_uri": "https://localhost:8080/",
          "height": 235
        }
      },
      "source": [
        "#Open the dataset using Pandas\n",
        "import pandas as pd\n",
        "import matplotlib.pyplot as plt\n",
        "import seaborn as sns\n",
        "\n",
        "data = pd.read_csv('FremontBridge.csv' , index_col = 'Date' , parse_dates=True )\n",
        "#Display the DataFrame\n",
        "data.head()\n"
      ],
      "execution_count": null,
      "outputs": [
        {
          "output_type": "execute_result",
          "data": {
            "text/html": [
              "<div>\n",
              "<style scoped>\n",
              "    .dataframe tbody tr th:only-of-type {\n",
              "        vertical-align: middle;\n",
              "    }\n",
              "\n",
              "    .dataframe tbody tr th {\n",
              "        vertical-align: top;\n",
              "    }\n",
              "\n",
              "    .dataframe thead th {\n",
              "        text-align: right;\n",
              "    }\n",
              "</style>\n",
              "<table border=\"1\" class=\"dataframe\">\n",
              "  <thead>\n",
              "    <tr style=\"text-align: right;\">\n",
              "      <th></th>\n",
              "      <th>Fremont Bridge Total</th>\n",
              "      <th>Fremont Bridge East Sidewalk</th>\n",
              "      <th>Fremont Bridge West Sidewalk</th>\n",
              "    </tr>\n",
              "    <tr>\n",
              "      <th>Date</th>\n",
              "      <th></th>\n",
              "      <th></th>\n",
              "      <th></th>\n",
              "    </tr>\n",
              "  </thead>\n",
              "  <tbody>\n",
              "    <tr>\n",
              "      <th>2012-10-03 00:00:00</th>\n",
              "      <td>13.0</td>\n",
              "      <td>4.0</td>\n",
              "      <td>9.0</td>\n",
              "    </tr>\n",
              "    <tr>\n",
              "      <th>2012-10-03 01:00:00</th>\n",
              "      <td>10.0</td>\n",
              "      <td>4.0</td>\n",
              "      <td>6.0</td>\n",
              "    </tr>\n",
              "    <tr>\n",
              "      <th>2012-10-03 02:00:00</th>\n",
              "      <td>2.0</td>\n",
              "      <td>1.0</td>\n",
              "      <td>1.0</td>\n",
              "    </tr>\n",
              "    <tr>\n",
              "      <th>2012-10-03 03:00:00</th>\n",
              "      <td>5.0</td>\n",
              "      <td>2.0</td>\n",
              "      <td>3.0</td>\n",
              "    </tr>\n",
              "    <tr>\n",
              "      <th>2012-10-03 04:00:00</th>\n",
              "      <td>7.0</td>\n",
              "      <td>6.0</td>\n",
              "      <td>1.0</td>\n",
              "    </tr>\n",
              "  </tbody>\n",
              "</table>\n",
              "</div>"
            ],
            "text/plain": [
              "                     Fremont Bridge Total  ...  Fremont Bridge West Sidewalk\n",
              "Date                                       ...                              \n",
              "2012-10-03 00:00:00                  13.0  ...                           9.0\n",
              "2012-10-03 01:00:00                  10.0  ...                           6.0\n",
              "2012-10-03 02:00:00                   2.0  ...                           1.0\n",
              "2012-10-03 03:00:00                   5.0  ...                           3.0\n",
              "2012-10-03 04:00:00                   7.0  ...                           1.0\n",
              "\n",
              "[5 rows x 3 columns]"
            ]
          },
          "metadata": {
            "tags": []
          },
          "execution_count": 112
        }
      ]
    },
    {
      "cell_type": "code",
      "metadata": {
        "id": "NAPGc5m0obn7",
        "outputId": "32ae3f42-faa6-43e7-be92-0d669a8dae5e",
        "colab": {
          "base_uri": "https://localhost:8080/",
          "height": 252
        }
      },
      "source": [
        "#When are the busiest hours per week in Total?\n",
        "# add hour column\n",
        "data['hour'] = data.index.hour\n",
        "\n",
        "#groupby hour then sum and sort \n",
        "data.groupby(data['hour']).sum().sort_values(by='Fremont Bridge Total' , ascending = False).head()\n",
        "\n",
        "# answer : busiest hour is 17\n"
      ],
      "execution_count": null,
      "outputs": [
        {
          "output_type": "execute_result",
          "data": {
            "text/html": [
              "<div>\n",
              "<style scoped>\n",
              "    .dataframe tbody tr th:only-of-type {\n",
              "        vertical-align: middle;\n",
              "    }\n",
              "\n",
              "    .dataframe tbody tr th {\n",
              "        vertical-align: top;\n",
              "    }\n",
              "\n",
              "    .dataframe thead th {\n",
              "        text-align: right;\n",
              "    }\n",
              "</style>\n",
              "<table border=\"1\" class=\"dataframe\">\n",
              "  <thead>\n",
              "    <tr style=\"text-align: right;\">\n",
              "      <th></th>\n",
              "      <th>Fremont Bridge Total</th>\n",
              "      <th>Fremont Bridge East Sidewalk</th>\n",
              "      <th>Fremont Bridge West Sidewalk</th>\n",
              "    </tr>\n",
              "    <tr>\n",
              "      <th>hour</th>\n",
              "      <th></th>\n",
              "      <th></th>\n",
              "      <th></th>\n",
              "    </tr>\n",
              "  </thead>\n",
              "  <tbody>\n",
              "    <tr>\n",
              "      <th>17</th>\n",
              "      <td>2205760.0</td>\n",
              "      <td>640045.0</td>\n",
              "      <td>1565715.0</td>\n",
              "    </tr>\n",
              "    <tr>\n",
              "      <th>8</th>\n",
              "      <td>1823835.0</td>\n",
              "      <td>1073078.0</td>\n",
              "      <td>750757.0</td>\n",
              "    </tr>\n",
              "    <tr>\n",
              "      <th>18</th>\n",
              "      <td>1501810.0</td>\n",
              "      <td>508787.0</td>\n",
              "      <td>993023.0</td>\n",
              "    </tr>\n",
              "    <tr>\n",
              "      <th>16</th>\n",
              "      <td>1322088.0</td>\n",
              "      <td>473823.0</td>\n",
              "      <td>848265.0</td>\n",
              "    </tr>\n",
              "    <tr>\n",
              "      <th>7</th>\n",
              "      <td>1285623.0</td>\n",
              "      <td>796903.0</td>\n",
              "      <td>488720.0</td>\n",
              "    </tr>\n",
              "  </tbody>\n",
              "</table>\n",
              "</div>"
            ],
            "text/plain": [
              "      Fremont Bridge Total  ...  Fremont Bridge West Sidewalk\n",
              "hour                        ...                              \n",
              "17               2205760.0  ...                     1565715.0\n",
              "8                1823835.0  ...                      750757.0\n",
              "18               1501810.0  ...                      993023.0\n",
              "16               1322088.0  ...                      848265.0\n",
              "7                1285623.0  ...                      488720.0\n",
              "\n",
              "[5 rows x 3 columns]"
            ]
          },
          "metadata": {
            "tags": []
          },
          "execution_count": 113
        }
      ]
    },
    {
      "cell_type": "code",
      "metadata": {
        "id": "z_kok88Sov4S",
        "outputId": "dc872641-417a-48b1-97ec-9320d3955b98",
        "colab": {
          "base_uri": "https://localhost:8080/",
          "height": 296
        }
      },
      "source": [
        "#Where will you be more comfortable (alone) riding during the week in West or East?\n",
        "\n",
        "\n",
        "# plot Average traffic during the week by hour to see which is more crowded per hour. \n",
        "\n",
        "data.iloc[: , 1:].groupby(by='hour').mean().plot()\n",
        "\n",
        "# answer : in the East side walk is better during the evening is the least crowded ."
      ],
      "execution_count": null,
      "outputs": [
        {
          "output_type": "execute_result",
          "data": {
            "text/plain": [
              "<matplotlib.axes._subplots.AxesSubplot at 0x7f281cfdd908>"
            ]
          },
          "metadata": {
            "tags": []
          },
          "execution_count": 114
        },
        {
          "output_type": "display_data",
          "data": {
            "image/png": "[encoded data removed]",
            "text/plain": [
              "<Figure size 432x288 with 1 Axes>"
            ]
          },
          "metadata": {
            "tags": [],
            "needs_background": "light"
          }
        }
      ]
    },
    {
      "cell_type": "code",
      "metadata": {
        "id": "AuF65dlopGT5",
        "outputId": "19cc2926-76fa-4ff8-af3f-1d5a2eeced26",
        "colab": {
          "base_uri": "https://localhost:8080/",
          "height": 558
        }
      },
      "source": [
        "#What about riding during the business days? When and where are the best hours to ride alone between 06:00 and 10:00? And between 15:00 and 20:00?\n",
        "\n",
        "#add week day for filtering Business Days : \n",
        "\n",
        "data['weekday']  = data.index.weekday\n",
        "\n",
        "# filter data to business days and calculate average traffic by hour \n",
        "newdata = data[ data['weekday'].isin([0,1,2,3,4])].iloc[: , 1:].groupby(by='hour').mean()\n",
        "\n",
        "#plot traffic from 6 to 10 and from 15 to 20\n",
        "newdata  = newdata.drop(['weekday'], axis=1)\n",
        "\n",
        "newdata.iloc[:,0:2][ newdata.index.isin([6,7,8,9,10])].plot()\n",
        "newdata.iloc[:,0:2][ newdata.index.isin([15,16,17,18,19,20])].plot()\n",
        "# Answer :  west side is less traffic in 6 - 9  . east side is less traffic 15 to 20 "
      ],
      "execution_count": null,
      "outputs": [
        {
          "output_type": "execute_result",
          "data": {
            "text/plain": [
              "<matplotlib.axes._subplots.AxesSubplot at 0x7f281daa2b00>"
            ]
          },
          "metadata": {
            "tags": []
          },
          "execution_count": 115
        },
        {
          "output_type": "display_data",
          "data": {
            "image/png": "[encoded data removed]",
            "text/plain": [
              "<Figure size 432x288 with 1 Axes>"
            ]
          },
          "metadata": {
            "tags": [],
            "needs_background": "light"
          }
        },
        {
          "output_type": "display_data",
          "data": {
            "image/png": "[encoded data removed]",
            "text/plain": [
              "<Figure size 432x288 with 1 Axes>"
            ]
          },
          "metadata": {
            "tags": [],
            "needs_background": "light"
          }
        }
      ]
    },
    {
      "cell_type": "code",
      "metadata": {
        "id": "UzaKeTGowTYo",
        "outputId": "2f84eadd-696e-43b2-d75c-9f4b7ca380f1",
        "colab": {
          "base_uri": "https://localhost:8080/",
          "height": 307
        }
      },
      "source": [
        "#What happened during the coronavirus pandemic? Did the daily riding hours change? How many riders are passing through the bridge comparing 2018 and 2020?\n",
        "\n",
        "\n",
        "# 1 - What happened during the coronavirus pandemic?\n",
        "#add year & Month Columns \n",
        "data['year'] = data.index.year \n",
        "data['month'] = data.index.month\n",
        "\n",
        "# create two data frames ( 2020 and 2012-2019)  then group by Month Total \n",
        "df2020 = pd.DataFrame(data[ data['year'] == 2020 ].groupby(by= 'month').sum())\n",
        "dfall = pd.DataFrame(data[ data['year'] != 2020 ].groupby(by= 'month').sum())\n",
        "\n",
        "# Merge data frames(2020 & 2012-2019) then plot \n",
        "dfall_2020 = pd.concat( [dfall.iloc[:,0:1],df2020.iloc[:,0:1]] , axis=1)\n",
        "dfall_2020.columns = ('Fremont Bridge Total 2012 to 2019' , 'Fremont Bridge Total 2020')\n",
        "dfall_2020. plot()\n",
        "\n",
        "\n"
      ],
      "execution_count": null,
      "outputs": [
        {
          "output_type": "execute_result",
          "data": {
            "text/plain": [
              "<matplotlib.axes._subplots.AxesSubplot at 0x7f281d0bd908>"
            ]
          },
          "metadata": {
            "tags": []
          },
          "execution_count": 157
        },
        {
          "output_type": "display_data",
          "data": {
            "image/png": "[encoded data removed]",
            "text/plain": [
              "<Figure size 432x288 with 1 Axes>"
            ]
          },
          "metadata": {
            "tags": [],
            "needs_background": "light"
          }
        }
      ]
    },
    {
      "cell_type": "code",
      "metadata": {
        "id": "vBWc4h_q40xW",
        "outputId": "36622afd-c562-4a32-999f-b95536dd0ec3",
        "colab": {
          "base_uri": "https://localhost:8080/",
          "height": 415
        }
      },
      "source": [
        "#How many riders are passing through the bridge comparing 2018 and 2020?\n",
        "# create two data frames ( 2020 and 2012-2019)  then group by year. the plot to compare \n",
        "df2020 = pd.DataFrame(data[ data['year'] == 2020 ].groupby(by= 'year').sum())\n",
        "df2018 = pd.DataFrame(data[ data['year'] == 2018 ].groupby(by= 'year').sum())\n",
        "\n",
        "dfall= pd.concat( [df2018.iloc[:,0:1],df2020.iloc[:,0:1]] , axis=0)\n",
        "\n",
        "sns.barplot(x=dfall.index, y= dfall['Fremont Bridge Total'])\n",
        "dfall"
      ],
      "execution_count": null,
      "outputs": [
        {
          "output_type": "execute_result",
          "data": {
            "text/html": [
              "<div>\n",
              "<style scoped>\n",
              "    .dataframe tbody tr th:only-of-type {\n",
              "        vertical-align: middle;\n",
              "    }\n",
              "\n",
              "    .dataframe tbody tr th {\n",
              "        vertical-align: top;\n",
              "    }\n",
              "\n",
              "    .dataframe thead th {\n",
              "        text-align: right;\n",
              "    }\n",
              "</style>\n",
              "<table border=\"1\" class=\"dataframe\">\n",
              "  <thead>\n",
              "    <tr style=\"text-align: right;\">\n",
              "      <th></th>\n",
              "      <th>Fremont Bridge Total</th>\n",
              "    </tr>\n",
              "    <tr>\n",
              "      <th>year</th>\n",
              "      <th></th>\n",
              "    </tr>\n",
              "  </thead>\n",
              "  <tbody>\n",
              "    <tr>\n",
              "      <th>2018</th>\n",
              "      <td>2,103,760.0</td>\n",
              "    </tr>\n",
              "    <tr>\n",
              "      <th>2020</th>\n",
              "      <td>883,224.0</td>\n",
              "    </tr>\n",
              "  </tbody>\n",
              "</table>\n",
              "</div>"
            ],
            "text/plain": [
              "      Fremont Bridge Total\n",
              "year                      \n",
              "2018           2,103,760.0\n",
              "2020             883,224.0"
            ]
          },
          "metadata": {
            "tags": []
          },
          "execution_count": 156
        },
        {
          "output_type": "display_data",
          "data": {
            "image/png": "[encoded data removed]",
            "text/plain": [
              "<Figure size 432x288 with 1 Axes>"
            ]
          },
          "metadata": {
            "tags": [],
            "needs_background": "light"
          }
        }
      ]
    },
    {
      "cell_type": "markdown",
      "metadata": {
        "id": "kRIP0xZeYrvn"
      },
      "source": [
        "# Exercise 4: let's get rich!\n",
        "\n",
        "Given this apple stock history [this dataset](https://raw.githubusercontent.com/vfp1/bts-dsf-2020/main/data/appl_1980_2014.csv)\n",
        "\n",
        "* Open the dataset using Pandas\n",
        "* Display the DataFrame\n",
        "* Reply to the following questions (either by plotting the graph and summarizing the values):\n",
        "\n",
        "    * How much money will you have now if you bought 10 stocks for Apple at the end of January 2000 and you sold it at the end of 2013\n",
        "    * When was the peak maximum of volume of trades done?\n",
        "    * When was the month with the lowest close?\n",
        "    * And the lowest close of the day in the whole dataset?"
      ]
    },
    {
      "cell_type": "code",
      "metadata": {
        "id": "k0xMrNse3n8g"
      },
      "source": [
        "import pandas as pd\n",
        "data = pd.read_csv('https://raw.githubusercontent.com/vfp1/bts-dsf-2020/main/data/appl_1980_2014.csv', index_col='Date', parse_dates=True)\n",
        "from dateutil import parser\n",
        "import numpy as np"
      ],
      "execution_count": 2,
      "outputs": []
    },
    {
      "cell_type": "code",
      "metadata": {
        "id": "0j9gVDk74-gS",
        "outputId": "dde5e1d5-3ca2-4ba9-aeb8-ddcf381b64a4",
        "colab": {
          "base_uri": "https://localhost:8080/",
          "height": 235
        }
      },
      "source": [
        "#Display the DataFrame\n",
        "\n",
        "data.head()"
      ],
      "execution_count": 3,
      "outputs": [
        {
          "output_type": "execute_result",
          "data": {
            "text/html": [
              "<div>\n",
              "<style scoped>\n",
              "    .dataframe tbody tr th:only-of-type {\n",
              "        vertical-align: middle;\n",
              "    }\n",
              "\n",
              "    .dataframe tbody tr th {\n",
              "        vertical-align: top;\n",
              "    }\n",
              "\n",
              "    .dataframe thead th {\n",
              "        text-align: right;\n",
              "    }\n",
              "</style>\n",
              "<table border=\"1\" class=\"dataframe\">\n",
              "  <thead>\n",
              "    <tr style=\"text-align: right;\">\n",
              "      <th></th>\n",
              "      <th>Open</th>\n",
              "      <th>High</th>\n",
              "      <th>Low</th>\n",
              "      <th>Close</th>\n",
              "      <th>Volume</th>\n",
              "      <th>Adj Close</th>\n",
              "    </tr>\n",
              "    <tr>\n",
              "      <th>Date</th>\n",
              "      <th></th>\n",
              "      <th></th>\n",
              "      <th></th>\n",
              "      <th></th>\n",
              "      <th></th>\n",
              "      <th></th>\n",
              "    </tr>\n",
              "  </thead>\n",
              "  <tbody>\n",
              "    <tr>\n",
              "      <th>2014-07-08</th>\n",
              "      <td>96.27</td>\n",
              "      <td>96.80</td>\n",
              "      <td>93.92</td>\n",
              "      <td>95.35</td>\n",
              "      <td>65130000</td>\n",
              "      <td>95.35</td>\n",
              "    </tr>\n",
              "    <tr>\n",
              "      <th>2014-07-07</th>\n",
              "      <td>94.14</td>\n",
              "      <td>95.99</td>\n",
              "      <td>94.10</td>\n",
              "      <td>95.97</td>\n",
              "      <td>56305400</td>\n",
              "      <td>95.97</td>\n",
              "    </tr>\n",
              "    <tr>\n",
              "      <th>2014-07-03</th>\n",
              "      <td>93.67</td>\n",
              "      <td>94.10</td>\n",
              "      <td>93.20</td>\n",
              "      <td>94.03</td>\n",
              "      <td>22891800</td>\n",
              "      <td>94.03</td>\n",
              "    </tr>\n",
              "    <tr>\n",
              "      <th>2014-07-02</th>\n",
              "      <td>93.87</td>\n",
              "      <td>94.06</td>\n",
              "      <td>93.09</td>\n",
              "      <td>93.48</td>\n",
              "      <td>28420900</td>\n",
              "      <td>93.48</td>\n",
              "    </tr>\n",
              "    <tr>\n",
              "      <th>2014-07-01</th>\n",
              "      <td>93.52</td>\n",
              "      <td>94.07</td>\n",
              "      <td>93.13</td>\n",
              "      <td>93.52</td>\n",
              "      <td>38170200</td>\n",
              "      <td>93.52</td>\n",
              "    </tr>\n",
              "  </tbody>\n",
              "</table>\n",
              "</div>"
            ],
            "text/plain": [
              "             Open   High    Low  Close    Volume  Adj Close\n",
              "Date                                                       \n",
              "2014-07-08  96.27  96.80  93.92  95.35  65130000      95.35\n",
              "2014-07-07  94.14  95.99  94.10  95.97  56305400      95.97\n",
              "2014-07-03  93.67  94.10  93.20  94.03  22891800      94.03\n",
              "2014-07-02  93.87  94.06  93.09  93.48  28420900      93.48\n",
              "2014-07-01  93.52  94.07  93.13  93.52  38170200      93.52"
            ]
          },
          "metadata": {
            "tags": []
          },
          "execution_count": 3
        }
      ]
    },
    {
      "cell_type": "code",
      "metadata": {
        "id": "F4eR2TCI5C0f",
        "outputId": "7044baa2-e939-4ec4-c264-7df609de9cde",
        "colab": {
          "base_uri": "https://localhost:8080/"
        }
      },
      "source": [
        "#How much money will you have now if you bought 10 stocks for Apple at the end of January 2000 and you sold it at the end of 2013\n",
        "\n",
        "#Access the closing price to calcualte price for the two periods \n",
        "data['date'] = data.index.astype(str)\n",
        "data['Close'] = data['Close'].astype(int)\n",
        "df = pd.concat([data[data['date'] == '2000-01-31'] , data[data['date'] == '2012-12-31']] , axis= 0)\n",
        "\n",
        "#calcualte profite and amount for 10 stocks \n",
        "profit =  ((df.iloc[1,5] - df.iloc[0,5] ) * 10).astype(int)\n",
        "Amount = df.iloc[1,5] * 10 \n",
        "\n",
        "print( 'Amount' , Amount , \"profit\" , profit)"
      ],
      "execution_count": 4,
      "outputs": [
        {
          "output_type": "stream",
          "text": [
            "Amount 733.1 profit 697\n"
          ],
          "name": "stdout"
        }
      ]
    },
    {
      "cell_type": "code",
      "metadata": {
        "id": "0EhVCfAS5HTI",
        "outputId": "35791ea2-ae6a-4c3e-c357-a1e8e288f420",
        "colab": {
          "base_uri": "https://localhost:8080/",
          "height": 348
        }
      },
      "source": [
        "#When was the peak maximum of volume of trades done?\n",
        "data['Volume'].plot() \n",
        "print(data.sort_values(by='Volume' , ascending= False).head(1))\n",
        "\n",
        "data['Volume'].max()"
      ],
      "execution_count": 5,
      "outputs": [
        {
          "output_type": "stream",
          "text": [
            "             Open  High    Low  Close      Volume  Adj Close        date\n",
            "Date                                                                    \n",
            "2000-09-29  28.19  29.0  25.38     25  1855410200       1.76  2000-09-29\n"
          ],
          "name": "stdout"
        },
        {
          "output_type": "execute_result",
          "data": {
            "text/plain": [
              "1855410200"
            ]
          },
          "metadata": {
            "tags": []
          },
          "execution_count": 5
        },
        {
          "output_type": "display_data",
          "data": {
            "image/png": "[encoded data removed]",
            "text/plain": [
              "<Figure size 432x288 with 1 Axes>"
            ]
          },
          "metadata": {
            "tags": [],
            "needs_background": "light"
          }
        }
      ]
    },
    {
      "cell_type": "code",
      "metadata": {
        "id": "rrgUU27Q5yyl",
        "outputId": "b6572178-fd49-4ff6-b608-a8314a8a36d5",
        "colab": {
          "base_uri": "https://localhost:8080/",
          "height": 111
        }
      },
      "source": [
        "#when was the month with the lowest close?\n",
        "\n",
        "data.groupby(by= data.index.month).sum().sort_values(by='Close').head(1)\n",
        "data.groupby(by= data.index.month).mean().sort_values(by='Close').head(1)\n",
        "#Answer is july .  according to total close and average close per month "
      ],
      "execution_count": 8,
      "outputs": [
        {
          "output_type": "execute_result",
          "data": {
            "text/html": [
              "<div>\n",
              "<style scoped>\n",
              "    .dataframe tbody tr th:only-of-type {\n",
              "        vertical-align: middle;\n",
              "    }\n",
              "\n",
              "    .dataframe tbody tr th {\n",
              "        vertical-align: top;\n",
              "    }\n",
              "\n",
              "    .dataframe thead th {\n",
              "        text-align: right;\n",
              "    }\n",
              "</style>\n",
              "<table border=\"1\" class=\"dataframe\">\n",
              "  <thead>\n",
              "    <tr style=\"text-align: right;\">\n",
              "      <th></th>\n",
              "      <th>Open</th>\n",
              "      <th>High</th>\n",
              "      <th>Low</th>\n",
              "      <th>Close</th>\n",
              "      <th>Volume</th>\n",
              "      <th>Adj Close</th>\n",
              "    </tr>\n",
              "    <tr>\n",
              "      <th>Date</th>\n",
              "      <th></th>\n",
              "      <th></th>\n",
              "      <th></th>\n",
              "      <th></th>\n",
              "      <th></th>\n",
              "      <th></th>\n",
              "    </tr>\n",
              "  </thead>\n",
              "  <tbody>\n",
              "    <tr>\n",
              "      <th>7</th>\n",
              "      <td>90.703215</td>\n",
              "      <td>91.912859</td>\n",
              "      <td>89.478563</td>\n",
              "      <td>90.3101</td>\n",
              "      <td>8.920390e+07</td>\n",
              "      <td>10.62394</td>\n",
              "    </tr>\n",
              "  </tbody>\n",
              "</table>\n",
              "</div>"
            ],
            "text/plain": [
              "           Open       High        Low    Close        Volume  Adj Close\n",
              "Date                                                                   \n",
              "7     90.703215  91.912859  89.478563  90.3101  8.920390e+07   10.62394"
            ]
          },
          "metadata": {
            "tags": []
          },
          "execution_count": 8
        }
      ]
    },
    {
      "cell_type": "code",
      "metadata": {
        "id": "qRr319Bb5-Ej"
      },
      "source": [
        "#And the lowest close of the day in the whole dataset?\n",
        "\n",
        "data.sort_values(by='Close').head(1)"
      ],
      "execution_count": null,
      "outputs": []
    },
    {
      "cell_type": "code",
      "metadata": {
        "id": "7lRlZLp46Ss_"
      },
      "source": [
        ""
      ],
      "execution_count": null,
      "outputs": []
    },
    {
      "cell_type": "code",
      "metadata": {
        "id": "BS1tLDrQ6V3K"
      },
      "source": [
        ""
      ],
      "execution_count": null,
      "outputs": []
    }
  ]
}